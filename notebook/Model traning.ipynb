{
 "cells": [
  {
   "cell_type": "code",
   "execution_count": 1,
   "id": "2a2cba7c-cc6a-459c-93bf-8579dff866cf",
   "metadata": {},
   "outputs": [],
   "source": [
    "import pandas as pd\n",
    "import seaborn as sns \n",
    "import matplotlib.pyplot as plt \n",
    "from sklearn.model_selection import GridSearchCV\n",
    "import warnings\n",
    "warnings.filterwarnings('ignore')\n",
    "from sklearn.model_selection import train_test_split\n",
    "from sklearn.linear_model import LogisticRegression\n",
    "from sklearn.metrics import confusion_matrix,accuracy_score,classification_report\n",
    "from sklearn.model_selection import RandomizedSearchCV\n",
    "from sklearn.linear_model import LinearRegression\n",
    "from sklearn.metrics import mean_squared_error,mean_absolute_error\n",
    "from sklearn.preprocessing import StandardScaler,RobustScaler,MinMaxScaler\n",
    "import numpy as np\n",
    "from sklearn.metrics import r2_score\n",
    "from sklearn.tree import DecisionTreeClassifier\n",
    "from sklearn.tree import DecisionTreeRegressor\n",
    "from sklearn.svm import SVC\n",
    "from sklearn.svm import SVR\n",
    "from sklearn.naive_bayes import GaussianNB\n",
    "from sklearn.preprocessing import LabelEncoder\n",
    "from sklearn.pipeline import Pipeline,make_pipeline\n",
    "from sklearn.impute import KNNImputer\n",
    "from sklearn.impute import SimpleImputer ## HAndle Missing Values\n",
    "from sklearn.preprocessing import StandardScaler ## Feature Scaling\n",
    "from sklearn.preprocessing import OneHotEncoder ## categorical to numerical\n",
    "from sklearn.compose import ColumnTransformer\n",
    "from sklearn.ensemble import RandomForestClassifier,RandomForestRegressor\n",
    "from sklearn.ensemble import AdaBoostClassifier\n",
    "from sklearn.ensemble import GradientBoostingClassifier,GradientBoostingRegressor\n",
    "import xgboost as xb\n",
    "from sklearn.neighbors import KNeighborsClassifier\n",
    "from sklearn.neighbors import KNeighborsRegressor\n",
    "from sklearn.decomposition import PCA\n",
    "from sklearn.linear_model import LinearRegression,Ridge,Lasso\n",
    "from imblearn.combine import SMOTETomek\n",
    "from xgboost import XGBClassifier\n",
    "from sklearn.model_selection import cross_val_score\n",
    "from sklearn.model_selection import cross_val_predict\n",
    "from sklearn.metrics import roc_auc_score\n",
    "from imblearn.over_sampling import SMOTE\n",
    "from sklearn.model_selection import StratifiedGroupKFold\n",
    "import sweetviz as sv \n",
    "pd.set_option('display.max_columns',None)\n",
    "plt.rcParams['figure.figsize']=(15,10)\n",
    "from sklearn.feature_selection import mutual_info_classif  ## good for only classification problem \n",
    "from sklearn.feature_selection import SelectFromModel\n",
    "from sklearn.feature_selection import VarianceThreshold\n",
    "from sklearn.feature_selection import mutual_info_classif\n",
    "from sklearn.feature_selection import SelectKBest\n",
    "from sklearn.feature_selection import mutual_info_regression\n",
    "from sklearn.feature_selection import SelectPercentile\n",
    "from sklearn.preprocessing import OrdinalEncoder\n",
    "from imblearn.over_sampling import RandomOverSampler"
   ]
  },
  {
   "cell_type": "code",
   "execution_count": 2,
   "id": "514d8d6c-6080-48a5-9838-4c8a794d6dc4",
   "metadata": {},
   "outputs": [],
   "source": [
    "df=pd.read_csv('final_loan.csv')"
   ]
  },
  {
   "cell_type": "code",
   "execution_count": 3,
   "id": "2b754c42-0260-49da-b87e-9e6de1a273a6",
   "metadata": {},
   "outputs": [
    {
     "name": "stdout",
     "output_type": "stream",
     "text": [
      "<class 'pandas.core.frame.DataFrame'>\n",
      "RangeIndex: 148670 entries, 0 to 148669\n",
      "Data columns (total 8 columns):\n",
      " #   Column                Non-Null Count   Dtype  \n",
      "---  ------                --------------   -----  \n",
      " 0   rate_of_interest      112231 non-null  float64\n",
      " 1   Interest_rate_spread  112031 non-null  float64\n",
      " 2   Upfront_charges       109028 non-null  float64\n",
      " 3   property_value        133572 non-null  float64\n",
      " 4   credit_type           148670 non-null  object \n",
      " 5   LTV                   133572 non-null  float64\n",
      " 6   dtir1                 124549 non-null  float64\n",
      " 7   Status                148670 non-null  int64  \n",
      "dtypes: float64(6), int64(1), object(1)\n",
      "memory usage: 9.1+ MB\n"
     ]
    }
   ],
   "source": [
    "df.info()"
   ]
  },
  {
   "cell_type": "code",
   "execution_count": 4,
   "id": "06d79367-53ea-4b77-8a58-25ac1f6ee6ef",
   "metadata": {},
   "outputs": [
    {
     "data": {
      "text/plain": [
       "16963"
      ]
     },
     "execution_count": 4,
     "metadata": {},
     "output_type": "execute_result"
    }
   ],
   "source": [
    "df.duplicated().sum()"
   ]
  },
  {
   "cell_type": "code",
   "execution_count": 5,
   "id": "f03978df-1ac7-4b2c-a274-395b32748869",
   "metadata": {},
   "outputs": [],
   "source": [
    "df.drop_duplicates(inplace=True)"
   ]
  },
  {
   "cell_type": "code",
   "execution_count": 6,
   "id": "d2e8d258-1412-4352-b8c5-b93ba235ea75",
   "metadata": {},
   "outputs": [
    {
     "data": {
      "text/plain": [
       "(131707, 8)"
      ]
     },
     "execution_count": 6,
     "metadata": {},
     "output_type": "execute_result"
    }
   ],
   "source": [
    "df.shape"
   ]
  },
  {
   "cell_type": "code",
   "execution_count": 7,
   "id": "714de394-258f-4203-930c-24898b99ce84",
   "metadata": {},
   "outputs": [
    {
     "data": {
      "text/plain": [
       "rate_of_interest        19484\n",
       "Interest_rate_spread    19679\n",
       "Upfront_charges         22682\n",
       "property_value              3\n",
       "credit_type                 0\n",
       "LTV                         3\n",
       "dtir1                    8765\n",
       "Status                      0\n",
       "dtype: int64"
      ]
     },
     "execution_count": 7,
     "metadata": {},
     "output_type": "execute_result"
    }
   ],
   "source": [
    "df.isnull().sum()"
   ]
  },
  {
   "cell_type": "code",
   "execution_count": 10,
   "id": "d11ff0dc-d920-4cdf-bde9-a617b41d8225",
   "metadata": {},
   "outputs": [],
   "source": [
    "from sklearn.impute import KNNImputer\n",
    "from sklearn.impute import SimpleImputer"
   ]
  },
  {
   "cell_type": "code",
   "execution_count": 8,
   "id": "2eb9de73-d01b-4001-8bf8-3ddc722af3f0",
   "metadata": {},
   "outputs": [],
   "source": [
    "feature_witn_na_num=[feature for feature in df.columns if df[feature].isnull().sum()>1 and df[feature].dtype!='O']"
   ]
  },
  {
   "cell_type": "code",
   "execution_count": 9,
   "id": "eff18a29-2147-4bf7-aece-d3fb2d699ba5",
   "metadata": {},
   "outputs": [],
   "source": [
    "feature_witn_na_col=[feature for feature in df.columns if df[feature].isnull().sum()>1 and df[feature].dtype=='O']"
   ]
  },
  {
   "cell_type": "code",
   "execution_count": 12,
   "id": "5d3cf4c1-6138-47e8-a4d0-cf95eebdce76",
   "metadata": {},
   "outputs": [
    {
     "data": {
      "text/plain": [
       "[]"
      ]
     },
     "execution_count": 12,
     "metadata": {},
     "output_type": "execute_result"
    }
   ],
   "source": [
    "feature_witn_na_col"
   ]
  },
  {
   "cell_type": "code",
   "execution_count": 13,
   "id": "77180453-74c7-4236-8ae6-b767e28a333c",
   "metadata": {},
   "outputs": [],
   "source": [
    "for feature in df[feature_witn_na_num]:\n",
    "    df[feature]=df[feature].fillna(df[feature].median())"
   ]
  },
  {
   "cell_type": "code",
   "execution_count": 14,
   "id": "b8a3adeb-5ccc-4cd9-ae0e-c0bee819752b",
   "metadata": {},
   "outputs": [
    {
     "data": {
      "text/plain": [
       "rate_of_interest        0\n",
       "Interest_rate_spread    0\n",
       "Upfront_charges         0\n",
       "property_value          0\n",
       "credit_type             0\n",
       "LTV                     0\n",
       "dtir1                   0\n",
       "Status                  0\n",
       "dtype: int64"
      ]
     },
     "execution_count": 14,
     "metadata": {},
     "output_type": "execute_result"
    }
   ],
   "source": [
    "df.isnull().sum()"
   ]
  },
  {
   "cell_type": "code",
   "execution_count": 15,
   "id": "abf5ff6f-3512-4e8a-8e18-56b73c2dd9fb",
   "metadata": {},
   "outputs": [],
   "source": [
    "categorical_column=[feature for feature in df.columns if df[feature].dtype=='O']"
   ]
  },
  {
   "cell_type": "code",
   "execution_count": 16,
   "id": "a75aa4e7-f73d-4e0d-a46c-8c8720eaac91",
   "metadata": {},
   "outputs": [
    {
     "name": "stdout",
     "output_type": "stream",
     "text": [
      "credit_type\n",
      "CIB     47487\n",
      "CRIF    43300\n",
      "EXP     40722\n",
      "EQUI      198\n",
      "Name: count, dtype: int64\n",
      "********************\n"
     ]
    }
   ],
   "source": [
    "for feature in df[categorical_column]:\n",
    "    print(df[feature].value_counts())\n",
    "    print('********************')"
   ]
  },
  {
   "cell_type": "code",
   "execution_count": 17,
   "id": "77853373-73fb-4a3f-a1e0-fd054a293be6",
   "metadata": {},
   "outputs": [],
   "source": [
    "def remove_outliers(df,cols):\n",
    "    for feature in cols:\n",
    "        Q1=df[feature].quantile(0.25)\n",
    "        Q3=df[feature].quantile(0.75)\n",
    "        IQR=Q3-Q1\n",
    "    \n",
    "        lower_bound=Q1-1.5*IQR\n",
    "        upper_bound=Q3+1.5*IQR\n",
    "        \n",
    "        df.loc[df[feature] > upper_bound,feature]=upper_bound\n",
    "        df.loc[df[feature] < lower_bound,feature]=lower_bound"
   ]
  },
  {
   "cell_type": "code",
   "execution_count": 19,
   "id": "096151e7-f86c-42a4-a214-807ac6be1b7f",
   "metadata": {},
   "outputs": [],
   "source": [
    "nuemrical_cols=[feature for feature in df.columns if df[feature].dtype!='O']"
   ]
  },
  {
   "cell_type": "code",
   "execution_count": 21,
   "id": "c6b052d3-fee0-4ba0-b434-5d318c409934",
   "metadata": {},
   "outputs": [],
   "source": [
    "nuemrical_cols.remove(\"Status\")"
   ]
  },
  {
   "cell_type": "code",
   "execution_count": 22,
   "id": "169fe1e1-d3a9-46de-b498-f4126ae110c4",
   "metadata": {},
   "outputs": [],
   "source": [
    "remove_outliers(df,nuemrical_cols)"
   ]
  },
  {
   "cell_type": "code",
   "execution_count": 23,
   "id": "e9e054f9-cd46-411b-a415-2686f6ff6c6c",
   "metadata": {},
   "outputs": [],
   "source": [
    "for feature in categorical_column:\n",
    "    labels_ordered=df.groupby([feature])['Status'].count().sort_values().index\n",
    "    labels_ordered={k:i for i,k in enumerate(labels_ordered,0)}\n",
    "    df[feature]=df[feature].map(labels_ordered)"
   ]
  },
  {
   "cell_type": "code",
   "execution_count": 24,
   "id": "0f85cae2-a461-4532-b89d-24b91e88a562",
   "metadata": {},
   "outputs": [
    {
     "data": {
      "text/html": [
       "<div>\n",
       "<style scoped>\n",
       "    .dataframe tbody tr th:only-of-type {\n",
       "        vertical-align: middle;\n",
       "    }\n",
       "\n",
       "    .dataframe tbody tr th {\n",
       "        vertical-align: top;\n",
       "    }\n",
       "\n",
       "    .dataframe thead th {\n",
       "        text-align: right;\n",
       "    }\n",
       "</style>\n",
       "<table border=\"1\" class=\"dataframe\">\n",
       "  <thead>\n",
       "    <tr style=\"text-align: right;\">\n",
       "      <th></th>\n",
       "      <th>rate_of_interest</th>\n",
       "      <th>Interest_rate_spread</th>\n",
       "      <th>Upfront_charges</th>\n",
       "      <th>property_value</th>\n",
       "      <th>credit_type</th>\n",
       "      <th>LTV</th>\n",
       "      <th>dtir1</th>\n",
       "      <th>Status</th>\n",
       "    </tr>\n",
       "  </thead>\n",
       "  <tbody>\n",
       "    <tr>\n",
       "      <th>0</th>\n",
       "      <td>3.990</td>\n",
       "      <td>0.3904</td>\n",
       "      <td>2596.56</td>\n",
       "      <td>118000.0</td>\n",
       "      <td>1</td>\n",
       "      <td>98.728814</td>\n",
       "      <td>45.0</td>\n",
       "      <td>1</td>\n",
       "    </tr>\n",
       "    <tr>\n",
       "      <th>1</th>\n",
       "      <td>3.990</td>\n",
       "      <td>0.3904</td>\n",
       "      <td>2596.56</td>\n",
       "      <td>418000.0</td>\n",
       "      <td>0</td>\n",
       "      <td>75.088028</td>\n",
       "      <td>39.0</td>\n",
       "      <td>1</td>\n",
       "    </tr>\n",
       "    <tr>\n",
       "      <th>2</th>\n",
       "      <td>4.560</td>\n",
       "      <td>0.2000</td>\n",
       "      <td>595.00</td>\n",
       "      <td>508000.0</td>\n",
       "      <td>1</td>\n",
       "      <td>80.019685</td>\n",
       "      <td>46.0</td>\n",
       "      <td>0</td>\n",
       "    </tr>\n",
       "    <tr>\n",
       "      <th>3</th>\n",
       "      <td>4.250</td>\n",
       "      <td>0.6810</td>\n",
       "      <td>2596.56</td>\n",
       "      <td>658000.0</td>\n",
       "      <td>1</td>\n",
       "      <td>69.376900</td>\n",
       "      <td>42.0</td>\n",
       "      <td>0</td>\n",
       "    </tr>\n",
       "    <tr>\n",
       "      <th>4</th>\n",
       "      <td>4.000</td>\n",
       "      <td>0.3042</td>\n",
       "      <td>0.00</td>\n",
       "      <td>758000.0</td>\n",
       "      <td>2</td>\n",
       "      <td>91.886544</td>\n",
       "      <td>39.0</td>\n",
       "      <td>0</td>\n",
       "    </tr>\n",
       "    <tr>\n",
       "      <th>...</th>\n",
       "      <td>...</td>\n",
       "      <td>...</td>\n",
       "      <td>...</td>\n",
       "      <td>...</td>\n",
       "      <td>...</td>\n",
       "      <td>...</td>\n",
       "      <td>...</td>\n",
       "      <td>...</td>\n",
       "    </tr>\n",
       "    <tr>\n",
       "      <th>148665</th>\n",
       "      <td>3.125</td>\n",
       "      <td>0.2571</td>\n",
       "      <td>9126.50</td>\n",
       "      <td>608000.0</td>\n",
       "      <td>3</td>\n",
       "      <td>71.792763</td>\n",
       "      <td>48.0</td>\n",
       "      <td>0</td>\n",
       "    </tr>\n",
       "    <tr>\n",
       "      <th>148666</th>\n",
       "      <td>5.190</td>\n",
       "      <td>0.8544</td>\n",
       "      <td>0.00</td>\n",
       "      <td>788000.0</td>\n",
       "      <td>3</td>\n",
       "      <td>74.428934</td>\n",
       "      <td>15.0</td>\n",
       "      <td>0</td>\n",
       "    </tr>\n",
       "    <tr>\n",
       "      <th>148667</th>\n",
       "      <td>3.125</td>\n",
       "      <td>0.0816</td>\n",
       "      <td>1226.64</td>\n",
       "      <td>728000.0</td>\n",
       "      <td>3</td>\n",
       "      <td>61.332418</td>\n",
       "      <td>49.0</td>\n",
       "      <td>0</td>\n",
       "    </tr>\n",
       "    <tr>\n",
       "      <th>148668</th>\n",
       "      <td>3.500</td>\n",
       "      <td>0.5824</td>\n",
       "      <td>4323.33</td>\n",
       "      <td>278000.0</td>\n",
       "      <td>1</td>\n",
       "      <td>70.683453</td>\n",
       "      <td>29.0</td>\n",
       "      <td>0</td>\n",
       "    </tr>\n",
       "    <tr>\n",
       "      <th>148669</th>\n",
       "      <td>4.375</td>\n",
       "      <td>1.3871</td>\n",
       "      <td>6000.00</td>\n",
       "      <td>558000.0</td>\n",
       "      <td>3</td>\n",
       "      <td>72.849462</td>\n",
       "      <td>44.0</td>\n",
       "      <td>0</td>\n",
       "    </tr>\n",
       "  </tbody>\n",
       "</table>\n",
       "<p>131707 rows × 8 columns</p>\n",
       "</div>"
      ],
      "text/plain": [
       "        rate_of_interest  Interest_rate_spread  Upfront_charges  \\\n",
       "0                  3.990                0.3904          2596.56   \n",
       "1                  3.990                0.3904          2596.56   \n",
       "2                  4.560                0.2000           595.00   \n",
       "3                  4.250                0.6810          2596.56   \n",
       "4                  4.000                0.3042             0.00   \n",
       "...                  ...                   ...              ...   \n",
       "148665             3.125                0.2571          9126.50   \n",
       "148666             5.190                0.8544             0.00   \n",
       "148667             3.125                0.0816          1226.64   \n",
       "148668             3.500                0.5824          4323.33   \n",
       "148669             4.375                1.3871          6000.00   \n",
       "\n",
       "        property_value  credit_type        LTV  dtir1  Status  \n",
       "0             118000.0            1  98.728814   45.0       1  \n",
       "1             418000.0            0  75.088028   39.0       1  \n",
       "2             508000.0            1  80.019685   46.0       0  \n",
       "3             658000.0            1  69.376900   42.0       0  \n",
       "4             758000.0            2  91.886544   39.0       0  \n",
       "...                ...          ...        ...    ...     ...  \n",
       "148665        608000.0            3  71.792763   48.0       0  \n",
       "148666        788000.0            3  74.428934   15.0       0  \n",
       "148667        728000.0            3  61.332418   49.0       0  \n",
       "148668        278000.0            1  70.683453   29.0       0  \n",
       "148669        558000.0            3  72.849462   44.0       0  \n",
       "\n",
       "[131707 rows x 8 columns]"
      ]
     },
     "execution_count": 24,
     "metadata": {},
     "output_type": "execute_result"
    }
   ],
   "source": [
    "df"
   ]
  },
  {
   "cell_type": "code",
   "execution_count": 25,
   "id": "1e6bc83a-092a-45b9-8797-c61866f31f5d",
   "metadata": {},
   "outputs": [],
   "source": [
    "X_train,X_test,y_train,y_test=train_test_split(df.drop('Status',axis=1),df[['Status']],random_state=42,test_size=0.3)"
   ]
  },
  {
   "cell_type": "code",
   "execution_count": 27,
   "id": "2924c5fc-c7a3-4be0-bc46-48994a2d8357",
   "metadata": {},
   "outputs": [],
   "source": [
    "model=[LogisticRegression(),DecisionTreeClassifier(),GaussianNB(),AdaBoostClassifier()]"
   ]
  },
  {
   "cell_type": "code",
   "execution_count": 28,
   "id": "2a9ac138-b949-4c81-b503-46fe2d2feb73",
   "metadata": {},
   "outputs": [],
   "source": [
    "def models_feat(X_train,X_test,y_train,y_test,models):\n",
    "    for model in models:\n",
    "        model.fit(X_train,y_train)\n",
    "        y_pred=model.predict(X_test)\n",
    "        Y_pred=model.predict(X_train)\n",
    "        print(model,'Training',accuracy_score(y_train,Y_pred))\n",
    "        print(model,'Testing',accuracy_score(y_test,y_pred))\n",
    "        print(classification_report(y_test,y_pred))\n",
    "        print(confusion_matrix(y_test,y_pred))\n",
    "        print('******************')"
   ]
  },
  {
   "cell_type": "code",
   "execution_count": 29,
   "id": "1ada5080-fb37-45ef-92df-24bd758c5635",
   "metadata": {},
   "outputs": [
    {
     "name": "stdout",
     "output_type": "stream",
     "text": [
      "LogisticRegression() Training 0.850944746946656\n",
      "LogisticRegression() Testing 0.849745653329284\n",
      "              precision    recall  f1-score   support\n",
      "\n",
      "           0       0.85      1.00      0.92     33576\n",
      "           1       0.00      0.00      0.00      5937\n",
      "\n",
      "    accuracy                           0.85     39513\n",
      "   macro avg       0.42      0.50      0.46     39513\n",
      "weighted avg       0.72      0.85      0.78     39513\n",
      "\n",
      "[[33576     0]\n",
      " [ 5937     0]]\n",
      "******************\n",
      "DecisionTreeClassifier() Training 1.0\n",
      "DecisionTreeClassifier() Testing 0.9999493837471212\n",
      "              precision    recall  f1-score   support\n",
      "\n",
      "           0       1.00      1.00      1.00     33576\n",
      "           1       1.00      1.00      1.00      5937\n",
      "\n",
      "    accuracy                           1.00     39513\n",
      "   macro avg       1.00      1.00      1.00     39513\n",
      "weighted avg       1.00      1.00      1.00     39513\n",
      "\n",
      "[[33574     2]\n",
      " [    0  5937]]\n",
      "******************\n",
      "GaussianNB() Training 0.9245720979673298\n",
      "GaussianNB() Testing 0.9245058588312707\n",
      "              precision    recall  f1-score   support\n",
      "\n",
      "           0       1.00      0.91      0.95     33576\n",
      "           1       0.67      0.99      0.80      5937\n",
      "\n",
      "    accuracy                           0.92     39513\n",
      "   macro avg       0.83      0.95      0.88     39513\n",
      "weighted avg       0.95      0.92      0.93     39513\n",
      "\n",
      "[[30635  2941]\n",
      " [   42  5895]]\n",
      "******************\n",
      "AdaBoostClassifier() Training 1.0\n",
      "AdaBoostClassifier() Testing 0.9999746918735606\n",
      "              precision    recall  f1-score   support\n",
      "\n",
      "           0       1.00      1.00      1.00     33576\n",
      "           1       1.00      1.00      1.00      5937\n",
      "\n",
      "    accuracy                           1.00     39513\n",
      "   macro avg       1.00      1.00      1.00     39513\n",
      "weighted avg       1.00      1.00      1.00     39513\n",
      "\n",
      "[[33575     1]\n",
      " [    0  5937]]\n",
      "******************\n"
     ]
    }
   ],
   "source": [
    "models_feat(X_train,X_test,y_train,y_test,model)"
   ]
  },
  {
   "cell_type": "code",
   "execution_count": null,
   "id": "0c0a15e3-fdc4-4ff6-b739-6f60751beffc",
   "metadata": {},
   "outputs": [],
   "source": []
  }
 ],
 "metadata": {
  "kernelspec": {
   "display_name": "Python 3 (ipykernel)",
   "language": "python",
   "name": "python3"
  },
  "language_info": {
   "codemirror_mode": {
    "name": "ipython",
    "version": 3
   },
   "file_extension": ".py",
   "mimetype": "text/x-python",
   "name": "python",
   "nbconvert_exporter": "python",
   "pygments_lexer": "ipython3",
   "version": "3.11.8"
  }
 },
 "nbformat": 4,
 "nbformat_minor": 5
}
